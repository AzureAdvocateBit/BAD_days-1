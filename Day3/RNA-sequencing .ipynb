{
 "cells": [
  {
   "cell_type": "markdown",
   "metadata": {},
   "source": [
    "# BAD Day 3: RNA sequencing pipeline"
   ]
  },
  {
   "cell_type": "markdown",
   "metadata": {},
   "source": [
    "This tutorial follows the WorkFlow described in <http://www.bioconductor.org/help/workflows/RNAseq123/>.\n",
    "\n",
    "## Introduction\n",
    "\n",
    "RNA-sequencing (RNA-seq) has become the primary technology used for gene expression profiling, with the genome-wide detection of differentially expressed genes between two or more conditions of interest one of the most commonly asked questions by researchers. The edgeR (Robinson, McCarthy, and Smyth 2010) and limma packages (Ritchie et al. 2015) available from the Bioconductor project (Huber et al. 2015) offer a well-developed suite of statistical methods for dealing with this question for RNA-seq data.\n",
    "\n",
    "In this article, we describe an edgeR - limma workflow for analysing RNA-seq data that takes gene-level counts as its input, and moves through pre-processing and exploratory data analysis before obtaining lists of differentially expressed (DE) genes and gene signatures. This analysis is enhanced through the use of interactive graphics from the Glimma package (Su and Ritchie 2016), that allows for a more detailed exploration of the data at both the sample and gene-level than is possible using static R plots.\n",
    "\n",
    "The experiment analysed in this workflow is from Sheridan et al. (2015) (Sheridan et al. 2015) and consists of three cell populations (basal, luminal progenitor (LP) and mature luminal (ML)) sorted from the mammary glands of female virgin mice, each profiled in triplicate. RNA samples were sequenced across three batches on an Illumina HiSeq 2000 to obtain 100 base-pair single-end reads. The analysis outlined in this article assumes that reads obtained from an RNA-seq experiment have been aligned to an appropriate reference genome and summarised into counts associated with gene-specific regions. In this instance, reads were aligned to the mouse reference genome (mm10) using the R based pipeline available in the Rsubread package (specifically the align function (Liao, Smyth, and Shi 2013) followed by featureCounts (Liao, Smyth, and Shi 2014) for gene-level summarisation based on the in-built mm10 RefSeq-based annotation).\n",
    "\n",
    "Count data for these samples can be downloaded from the Gene Expression Omnibus (GEO) http://www.ncbi.nlm.nih.gov/geo/ using GEO Series accession number GSE63310. Further information on experimental design and sample preparation is also available from GEO under this accession number."
   ]
  },
  {
   "cell_type": "markdown",
   "metadata": {},
   "source": [
    "## Loading the required packages"
   ]
  },
  {
   "cell_type": "code",
   "execution_count": null,
   "metadata": {
    "collapsed": true
   },
   "outputs": [],
   "source": [
    "library(limma)\n",
    "library(Glimma)\n",
    "library(edgeR)\n",
    "library(Mus.musculus);"
   ]
  },
  {
   "cell_type": "markdown",
   "metadata": {},
   "source": [
    "## Getting the data\n",
    "\n",
    "The dataset ` GSE63310_RAW.tar ` will be directly donwloaded from <https://www.ncbi.nlm.nih.gov/geo/download/?acc=GSE63310&format=file>. We will then extract the relevant files."
   ]
  },
  {
   "cell_type": "code",
   "execution_count": 4,
   "metadata": {
    "collapsed": true
   },
   "outputs": [],
   "source": [
    "url <- \"https://www.ncbi.nlm.nih.gov/geo/download/?acc=GSE63310&format=file\"\n",
    "\n",
    "utils::download.file(url, destfile=\"GSE63310_RAW.tar\", mode=\"wb\") \n",
    "utils::untar(\"GSE63310_RAW.tar\", exdir = \".\")\n",
    "\n",
    "files <- c(\"GSM1545535_10_6_5_11.txt\", \"GSM1545536_9_6_5_11.txt\", \"GSM1545538_purep53.txt\",\n",
    "  \"GSM1545539_JMS8-2.txt\", \"GSM1545540_JMS8-3.txt\", \"GSM1545541_JMS8-4.txt\",\n",
    "  \"GSM1545542_JMS8-5.txt\", \"GSM1545544_JMS9-P7c.txt\", \"GSM1545545_JMS9-P8c.txt\")\n",
    "\n",
    "for(i in paste(files, \".gz\", sep=\"\"))\n",
    "  R.utils::gunzip(i, overwrite=TRUE)"
   ]
  },
  {
   "cell_type": "markdown",
   "metadata": {},
   "source": [
    "Each of these text files contains the raw gene-level counts for a given sample.\n",
    "\n",
    "This analysis only includes the basal, LP and ML samples from this experiment (see associated file names below).\n"
   ]
  },
  {
   "cell_type": "code",
   "execution_count": 5,
   "metadata": {},
   "outputs": [
    {
     "data": {
      "text/html": [
       "<table>\n",
       "<thead><tr><th scope=col>EntrezID</th><th scope=col>GeneLength</th><th scope=col>Count</th></tr></thead>\n",
       "<tbody>\n",
       "\t<tr><td>   497097</td><td>3634     </td><td>1        </td></tr>\n",
       "\t<tr><td>100503874</td><td>3259     </td><td>0        </td></tr>\n",
       "\t<tr><td>100038431</td><td>1634     </td><td>0        </td></tr>\n",
       "\t<tr><td>    19888</td><td>9747     </td><td>0        </td></tr>\n",
       "\t<tr><td>    20671</td><td>3130     </td><td>1        </td></tr>\n",
       "</tbody>\n",
       "</table>\n"
      ],
      "text/latex": [
       "\\begin{tabular}{r|lll}\n",
       " EntrezID & GeneLength & Count\\\\\n",
       "\\hline\n",
       "\t    497097 & 3634      & 1        \\\\\n",
       "\t 100503874 & 3259      & 0        \\\\\n",
       "\t 100038431 & 1634      & 0        \\\\\n",
       "\t     19888 & 9747      & 0        \\\\\n",
       "\t     20671 & 3130      & 1        \\\\\n",
       "\\end{tabular}\n"
      ],
      "text/markdown": [
       "\n",
       "EntrezID | GeneLength | Count | \n",
       "|---|---|---|---|---|\n",
       "|    497097 | 3634      | 1         | \n",
       "| 100503874 | 3259      | 0         | \n",
       "| 100038431 | 1634      | 0         | \n",
       "|     19888 | 9747      | 0         | \n",
       "|     20671 | 3130      | 1         | \n",
       "\n",
       "\n"
      ],
      "text/plain": [
       "  EntrezID  GeneLength Count\n",
       "1    497097 3634       1    \n",
       "2 100503874 3259       0    \n",
       "3 100038431 1634       0    \n",
       "4     19888 9747       0    \n",
       "5     20671 3130       1    "
      ]
     },
     "metadata": {},
     "output_type": "display_data"
    }
   ],
   "source": [
    "files <- c(\"GSM1545535_10_6_5_11.txt\", \"GSM1545536_9_6_5_11.txt\", \n",
    "   \"GSM1545538_purep53.txt\", \"GSM1545539_JMS8-2.txt\", \n",
    "   \"GSM1545540_JMS8-3.txt\", \"GSM1545541_JMS8-4.txt\", \n",
    "   \"GSM1545542_JMS8-5.txt\", \"GSM1545544_JMS9-P7c.txt\", \n",
    "   \"GSM1545545_JMS9-P8c.txt\")\n",
    "\n",
    "read.delim(files[1], nrow=5)"
   ]
  },
  {
   "cell_type": "markdown",
   "metadata": {},
   "source": [
    "Instead of readig each file separately and combine posteriorly the package `edgeR` allows us to do this in one single step using the function `readDGE`. \n",
    "\n",
    "The resulting object will be a matrix of counts with 27,179 rows associated with unique Entrez gene identifiers (IDs) and nine columns associated with the individual samples in the experiment."
   ]
  },
  {
   "cell_type": "code",
   "execution_count": null,
   "metadata": {
    "collapsed": true
   },
   "outputs": [],
   "source": [
    "x <- readDGE(files, columns=c(1,3))\n",
    "class(x)"
   ]
  },
  {
   "cell_type": "code",
   "execution_count": null,
   "metadata": {
    "collapsed": true
   },
   "outputs": [],
   "source": [
    "# checking the dimension of x\n",
    "dim(x)"
   ]
  },
  {
   "cell_type": "markdown",
   "metadata": {},
   "source": [
    "## Organising sample information \n",
    "\n",
    "\n",
    "For downstream analysis, sample-level information related to the experimental design needs to be associated with the columns of the counts matrix. This should include experimental variables, both biological and technical, that could have an effect on expression levels. Examples include cell type (basal, LP and ML in this experiment), genotype (wild-type, knock-out), phenotype (disease status, sex, age), sample treatment (drug, control) and batch information (date experiment was performed if samples were collected and analysed at distinct time points) to name just a few.\n",
    "\n",
    "Our DGEList-object contains a `samples` data frame that stores both cell type (or `group`) and batch (sequencing `lane`) information, each of which consists of three distinct levels. Note that within `x$samples`, library sizes are automatically calculated for each sample and normalisation factors are set to 1. For simplicity, we remove the GEO sample IDs (GSM*) from the column names of our DGEList-object `x`."
   ]
  },
  {
   "cell_type": "code",
   "execution_count": null,
   "metadata": {
    "collapsed": true
   },
   "outputs": [],
   "source": [
    "samplenames <- substring(colnames(x), 12, nchar(colnames(x)))\n",
    "samplenames"
   ]
  },
  {
   "cell_type": "code",
   "execution_count": null,
   "metadata": {
    "collapsed": true
   },
   "outputs": [],
   "source": [
    "colnames(x) <- samplenames\n",
    "group <- as.factor(c(\"LP\", \"ML\", \"Basal\", \"Basal\", \"ML\", \"LP\", \n",
    "                     \"Basal\", \"ML\", \"LP\"))\n",
    "\n",
    "x$samples$group <- group\n",
    "lane <- as.factor(rep(c(\"L004\",\"L006\",\"L008\"), c(3,4,2)))\n",
    "\n",
    "x$samples$lane <- lane\n",
    "x$samples"
   ]
  },
  {
   "cell_type": "markdown",
   "metadata": {},
   "source": [
    "## Organising gene annotations\n",
    "\n",
    "\n",
    "A second data frame named `genes` in the DGEList-object is used to store gene-level information associated with rows of the counts matrix. This information can be retrieved using organism specific packages such as `Mus.musculus` (Bioconductor Core Team 2016b) for mouse (or `Homo.sapiens` (Bioconductor Core Team 2016a) for human) or the `biomaRt` package (Durinck et al. 2005; Durinck et al. 2009) which interfaces the Ensembl genome databases in order to perform gene annotation.\n",
    "\n",
    "\n",
    "The type of information that can be retrieved includes gene symbols, gene names, chromosome names and locations, Entrez gene IDs, Refseq gene IDs and Ensembl gene IDs to name just a few. `biomaRt` primarily works off Ensembl gene IDs, whereas `Mus.musculus` packages information from various sources and allows users to choose between many different gene IDs as the key.\n",
    "\n",
    "The Entrez gene IDs available in our dataset were annotated using the `Mus.musculus` package to retrieve associated gene symbols and chromosome information."
   ]
  },
  {
   "cell_type": "code",
   "execution_count": null,
   "metadata": {
    "collapsed": true
   },
   "outputs": [],
   "source": [
    "geneid <- rownames(x)\n",
    "genes <- select(Mus.musculus, keys=geneid, columns=c(\"SYMBOL\", \"TXCHROM\"), \n",
    "                keytype=\"ENTREZID\")\n",
    "\n",
    "head(genes)"
   ]
  },
  {
   "cell_type": "markdown",
   "metadata": {},
   "source": [
    "As with any gene ID, Entrez gene IDs may not map one-to-one to the gene information of interest. It is important to check for duplicated gene IDs and to understand the source of duplication before resolving them. Our gene annotation contains 28 genes that map to multiple chromosomes (e.g. gene Gm1987 is associated with chr4 and chr4_JH584294_random and microRNA Mir5098 is associated with chr2, chr5, chr8, chr11 and chr17).\n",
    "\n",
    "To resolve duplicate gene IDs one could combine all chromosome information from the multi-mapped genes, such that gene Gm1987 would be is assigned to chr4 and chr4_JH584294_random, or select one of the chromosomes to represent the gene with duplicate annotation. For simplicity we do the latter, keeping only the first occurrence of each gene ID."
   ]
  },
  {
   "cell_type": "code",
   "execution_count": null,
   "metadata": {
    "collapsed": true
   },
   "outputs": [],
   "source": [
    "genes <- genes[!duplicated(genes$ENTREZID),]"
   ]
  },
  {
   "cell_type": "markdown",
   "metadata": {},
   "source": [
    "In this example, the gene order is the same in both the annotation and the data object. If this is not the case due to missing and/or rearranged gene IDs, the `match` function can be used to order genes correctly. The data frame of gene annotations is then added to the data object and neatly packaged in a DGEList-object containing raw count data with associated sample information and gene annotations."
   ]
  },
  {
   "cell_type": "code",
   "execution_count": null,
   "metadata": {
    "collapsed": true
   },
   "outputs": [],
   "source": [
    "x$genes <- genes\n",
    "x"
   ]
  },
  {
   "cell_type": "markdown",
   "metadata": {},
   "source": [
    "## Data pre-processing\n",
    "\n",
    "### Transformations from the raw-scale\n",
    "\n",
    "For differential expression and related analyses, gene expression is rarely considered at the level of raw counts since libraries sequenced at a greater depth will result in higher counts. Rather, it is common practice to transform raw counts onto a scale that accounts for such library size differences. Popular transformations include counts per million (CPM), log2-counts per million (log-CPM), reads per kilobase of transcript per million (RPKM), and fragments per kilobase of transcript per million (FPKM).\n",
    "\n",
    "In our analyses, CPM and log-CPM transformations are used regularly although they do not account for feature length differences which RPKM and FPKM values do. Whilst RPKM and FPKM values can just as well be used, CPM and log-CPM values can be calculated using a counts matrix alone and will suffice for the type of comparisons we are interested in. Assuming that there are no differences in isoform usage between conditions, differential expression analyses look at gene expression changes between conditions rather than comparing expression across multiple genes or drawing conclusions on absolute levels of expression. In other words, gene lengths remain constant for comparisons of interest and any observed differences are a result of changes in condition rather than changes in gene length.\n",
    "\n",
    "Here raw counts are converted to CPM and log-CPM values using the `cpm` function in `edgeR`, where log-transformations use a prior count of 0.25 to avoid taking the log of zero. RPKM values are just as easily calculated as CPM values using the `rpkm` function in `edgeR` if gene lengths are available."
   ]
  },
  {
   "cell_type": "code",
   "execution_count": null,
   "metadata": {
    "collapsed": true
   },
   "outputs": [],
   "source": [
    "cpm <- cpm(x)\n",
    "lcpm <- cpm(x, log=TRUE)"
   ]
  },
  {
   "cell_type": "markdown",
   "metadata": {},
   "source": [
    "### Removing genes with low expression level\n",
    "\n",
    "All datasets will include a mix of genes that are expressed and those that are not expressed. Whilst it is of interest to examine genes that are expressed in one condition but not in another, some genes are unexpressed throughout all samples. In fact, 19% of genes in this dataset have zero counts across all nine samples."
   ]
  },
  {
   "cell_type": "code",
   "execution_count": null,
   "metadata": {
    "collapsed": true
   },
   "outputs": [],
   "source": [
    "table(rowSums(x$counts==0)==9)"
   ]
  },
  {
   "cell_type": "markdown",
   "metadata": {},
   "source": [
    "Genes that are not expressed at a biologically meaningful level in any condition should be discarded to reduce the subset of genes to those that are of interest, and to reduce the number of tests carried out downstream when looking at differential expression. Upon examination of log-CPM values, it can be seen that a large proportion of genes within each sample is unexpressed or lowly-expressed (shown in panel A of the next figure). Using a nominal CPM value of 1 (which is equivalent to a log-CPM value of 0) genes are deemed to be expressed if their expression is above this threshold, and unexpressed otherwise. Genes must be expressed in at least one group (or in at least three samples across the entire experiment) to be kept for downstream analysis.\n",
    "\n",
    "\n",
    "Although any sensible value can be used as the expression cutoff, typically a CPM value of 1 is used in our analyses as it separates expressed genes from unexpressed genes well for most datasets. Here, a CPM value of 1 means that a gene is expressed if it has at least 20 counts in the sample with the lowest sequencing depth (JMS9-P8c, library size approx. 20 million) or at least 76 counts in the sample with the greatest sequencing depth (JMS8-3, library size approx. 76 million). If sequence reads are summarised by exons rather than genes and/or experiments have low sequencing depth, a lower CPM cutoff may be considered."
   ]
  },
  {
   "cell_type": "code",
   "execution_count": null,
   "metadata": {
    "collapsed": true
   },
   "outputs": [],
   "source": [
    "keep.exprs <- rowSums(cpm>1)>=3\n",
    "x <- x[keep.exprs,, keep.lib.sizes=FALSE]\n",
    "dim(x)\n"
   ]
  },
  {
   "cell_type": "markdown",
   "metadata": {},
   "source": [
    "Using this criterion, the number of genes is reduced to approximately half the number that we started with (14,165 genes, panel B of the next figure). Note that subsetting the entire DGEList-object removes both the counts as well as the associated gene information. Code to produce the figure is given below."
   ]
  },
  {
   "cell_type": "code",
   "execution_count": null,
   "metadata": {
    "collapsed": true
   },
   "outputs": [],
   "source": [
    "library(RColorBrewer)\n",
    "nsamples <- ncol(x)\n",
    "col <- brewer.pal(nsamples, \"Set2\")\n",
    "\n",
    "par(mfrow=c(1,2))\n",
    "plot(density(lcpm[,1]), col=col[1], lwd=2, ylim=c(0,0.21), las=2, \n",
    "     main=\"\", xlab=\"\")\n",
    "title(main=\"A. Raw data\", xlab=\"Log-cpm\")\n",
    "abline(v=0, lty=3)\n",
    "for (i in 2:nsamples){\n",
    " den <- density(lcpm[,i])\n",
    " lines(den$x, den$y, col=col[i], lwd=2)\n",
    "}\n",
    "legend(\"topright\", samplenames, text.col=col, bty=\"n\")\n",
    "lcpm <- cpm(x, log=TRUE)\n",
    "plot(density(lcpm[,1]), col=col[1], lwd=2, ylim=c(0,0.21), las=2, \n",
    "     main=\"\", xlab=\"\")\n",
    "title(main=\"B. Filtered data\", xlab=\"Log-cpm\")\n",
    "abline(v=0, lty=3)\n",
    "for (i in 2:nsamples){\n",
    "   den <- density(lcpm[,i])\n",
    "   lines(den$x, den$y, col=col[i], lwd=2)\n",
    "}\n",
    "legend(\"topright\", samplenames, text.col=col, bty=\"n\")"
   ]
  },
  {
   "cell_type": "code",
   "execution_count": null,
   "metadata": {
    "collapsed": true
   },
   "outputs": [],
   "source": []
  }
 ],
 "metadata": {
  "kernelspec": {
   "display_name": "R",
   "language": "R",
   "name": "ir"
  },
  "language_info": {
   "codemirror_mode": "r",
   "file_extension": ".r",
   "mimetype": "text/x-r-source",
   "name": "R",
   "pygments_lexer": "r",
   "version": "3.3.2"
  }
 },
 "nbformat": 4,
 "nbformat_minor": 2
}
