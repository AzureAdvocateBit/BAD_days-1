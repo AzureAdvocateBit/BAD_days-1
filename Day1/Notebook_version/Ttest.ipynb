{
 "cells": [
  {
   "cell_type": "markdown",
   "metadata": {},
   "source": [
    "## Loading the data set"
   ]
  },
  {
   "cell_type": "code",
   "execution_count": 1,
   "metadata": {
    "collapsed": false
   },
   "outputs": [
    {
     "name": "stderr",
     "output_type": "stream",
     "text": [
      "Loading required package: multtest\n",
      "Loading required package: BiocGenerics\n",
      "Loading required package: parallel\n",
      "\n",
      "Attaching package: ‘BiocGenerics’\n",
      "\n",
      "The following objects are masked from ‘package:parallel’:\n",
      "\n",
      "    clusterApply, clusterApplyLB, clusterCall, clusterEvalQ,\n",
      "    clusterExport, clusterMap, parApply, parCapply, parLapply,\n",
      "    parLapplyLB, parRapply, parSapply, parSapplyLB\n",
      "\n",
      "The following objects are masked from ‘package:stats’:\n",
      "\n",
      "    IQR, mad, xtabs\n",
      "\n",
      "The following objects are masked from ‘package:base’:\n",
      "\n",
      "    anyDuplicated, append, as.data.frame, cbind, colnames, do.call,\n",
      "    duplicated, eval, evalq, Filter, Find, get, grep, grepl, intersect,\n",
      "    is.unsorted, lapply, lengths, Map, mapply, match, mget, order,\n",
      "    paste, pmax, pmax.int, pmin, pmin.int, Position, rank, rbind,\n",
      "    Reduce, rownames, sapply, setdiff, sort, table, tapply, union,\n",
      "    unique, unsplit, which, which.max, which.min\n",
      "\n",
      "Loading required package: Biobase\n",
      "Welcome to Bioconductor\n",
      "\n",
      "    Vignettes contain introductory material; view with\n",
      "    'browseVignettes()'. To cite Bioconductor, see\n",
      "    'citation(\"Biobase\")', and for packages 'citation(\"pkgname\")'.\n",
      "\n"
     ]
    }
   ],
   "source": [
    "require(multtest)\n",
    "data(golub)"
   ]
  },
  {
   "cell_type": "markdown",
   "metadata": {},
   "source": [
    "We will be usig the Gene Expression dataset from Golub et al (1999).\n",
    "\n",
    "Gene expression data (3051 genes and 38 tumor mRNA samples) from the leukemia microarray study of Golub et al. (1999). Pre-processing was done as described in Dudoit et al. (2002). The R code for pre-processing is available in the file ../doc/golub.R.\n",
    "Source: Golub et al. (1999). Molecular classification of cancer: class discovery and class prediction by gene expression monitoring, Science, Vol. 286:531-537. http://www-genome.wi.mit.edu/MPR/ ."
   ]
  },
  {
   "cell_type": "code",
   "execution_count": 2,
   "metadata": {
    "collapsed": false
   },
   "outputs": [
    {
     "data": {
      "text/html": [
       "<table>\n",
       "<tbody>\n",
       "\t<tr><td>-1.45769</td><td>-1.39420</td><td>-1.42779</td><td>-1.40715</td><td>-1.42668</td><td>-1.21719</td><td>-1.37386</td><td>-1.36832</td><td>-1.47649</td><td>-1.21583</td><td>⋯       </td><td>-1.08902</td><td>-1.29865</td><td>-1.26183</td><td>-1.44434</td><td> 1.10147</td><td>-1.34158</td><td>-1.22961</td><td>-0.75919</td><td>0.84905 </td><td>-0.66465</td></tr>\n",
       "\t<tr><td>-0.75161</td><td>-1.26278</td><td>-0.09052</td><td>-0.99596</td><td>-1.24245</td><td>-0.69242</td><td>-1.37386</td><td>-0.50803</td><td>-1.04533</td><td>-0.81257</td><td>⋯       </td><td>-1.08902</td><td>-1.05094</td><td>-1.26183</td><td>-1.25918</td><td> 0.97813</td><td>-0.79357</td><td>-1.22961</td><td>-0.71792</td><td>0.45127 </td><td>-0.45804</td></tr>\n",
       "\t<tr><td> 0.45695</td><td>-0.09654</td><td> 0.90325</td><td>-0.07194</td><td> 0.03232</td><td> 0.09713</td><td>-0.11978</td><td> 0.23381</td><td> 0.23987</td><td> 0.44201</td><td>⋯       </td><td>-0.43377</td><td>-0.10823</td><td>-0.29385</td><td> 0.05067</td><td> 1.69430</td><td>-0.12472</td><td> 0.04609</td><td> 0.24347</td><td>0.90774 </td><td> 0.46509</td></tr>\n",
       "\t<tr><td> 3.13533</td><td> 0.21415</td><td> 2.08754</td><td> 2.23467</td><td> 0.93811</td><td> 2.24089</td><td> 3.36576</td><td> 1.97859</td><td> 2.66468</td><td>-1.21583</td><td>⋯       </td><td> 0.29598</td><td>-1.29865</td><td> 2.76869</td><td> 2.08960</td><td> 0.70003</td><td> 0.13854</td><td> 1.75908</td><td> 0.06151</td><td>1.30297 </td><td> 0.58186</td></tr>\n",
       "\t<tr><td> 2.76569</td><td>-1.27045</td><td> 1.60433</td><td> 1.53182</td><td> 1.63728</td><td> 1.85697</td><td> 3.01847</td><td> 1.12853</td><td> 2.17016</td><td>-1.21583</td><td>⋯       </td><td>-1.08902</td><td>-1.29865</td><td> 2.00518</td><td> 1.17454</td><td>-1.47218</td><td>-1.34158</td><td> 1.55086</td><td>-1.18107</td><td>1.01596 </td><td> 0.15788</td></tr>\n",
       "\t<tr><td> 2.64342</td><td> 1.01416</td><td> 1.70477</td><td> 1.63845</td><td>-0.36075</td><td> 1.73451</td><td> 3.36576</td><td> 0.96870</td><td> 2.72368</td><td>-1.21583</td><td>⋯       </td><td>-1.08902</td><td>-1.29865</td><td> 1.73780</td><td> 0.89347</td><td>-0.52883</td><td>-1.22168</td><td> 0.90832</td><td>-1.39906</td><td>0.51266 </td><td> 1.36249</td></tr>\n",
       "</tbody>\n",
       "</table>\n"
      ],
      "text/latex": [
       "\\begin{tabular}{llllllllllllllllllllllllllllllllllllll}\n",
       "\t -1.45769 & -1.39420 & -1.42779 & -1.40715 & -1.42668 & -1.21719 & -1.37386 & -1.36832 & -1.47649 & -1.21583 & ⋯        & -1.08902 & -1.29865 & -1.26183 & -1.44434 &  1.10147 & -1.34158 & -1.22961 & -0.75919 & 0.84905  & -0.66465\\\\\n",
       "\t -0.75161 & -1.26278 & -0.09052 & -0.99596 & -1.24245 & -0.69242 & -1.37386 & -0.50803 & -1.04533 & -0.81257 & ⋯        & -1.08902 & -1.05094 & -1.26183 & -1.25918 &  0.97813 & -0.79357 & -1.22961 & -0.71792 & 0.45127  & -0.45804\\\\\n",
       "\t  0.45695 & -0.09654 &  0.90325 & -0.07194 &  0.03232 &  0.09713 & -0.11978 &  0.23381 &  0.23987 &  0.44201 & ⋯        & -0.43377 & -0.10823 & -0.29385 &  0.05067 &  1.69430 & -0.12472 &  0.04609 &  0.24347 & 0.90774  &  0.46509\\\\\n",
       "\t  3.13533 &  0.21415 &  2.08754 &  2.23467 &  0.93811 &  2.24089 &  3.36576 &  1.97859 &  2.66468 & -1.21583 & ⋯        &  0.29598 & -1.29865 &  2.76869 &  2.08960 &  0.70003 &  0.13854 &  1.75908 &  0.06151 & 1.30297  &  0.58186\\\\\n",
       "\t  2.76569 & -1.27045 &  1.60433 &  1.53182 &  1.63728 &  1.85697 &  3.01847 &  1.12853 &  2.17016 & -1.21583 & ⋯        & -1.08902 & -1.29865 &  2.00518 &  1.17454 & -1.47218 & -1.34158 &  1.55086 & -1.18107 & 1.01596  &  0.15788\\\\\n",
       "\t  2.64342 &  1.01416 &  1.70477 &  1.63845 & -0.36075 &  1.73451 &  3.36576 &  0.96870 &  2.72368 & -1.21583 & ⋯        & -1.08902 & -1.29865 &  1.73780 &  0.89347 & -0.52883 & -1.22168 &  0.90832 & -1.39906 & 0.51266  &  1.36249\\\\\n",
       "\\end{tabular}\n"
      ],
      "text/markdown": [
       "\n",
       "| -1.45769 | -1.39420 | -1.42779 | -1.40715 | -1.42668 | -1.21719 | -1.37386 | -1.36832 | -1.47649 | -1.21583 | ⋯        | -1.08902 | -1.29865 | -1.26183 | -1.44434 |  1.10147 | -1.34158 | -1.22961 | -0.75919 | 0.84905  | -0.66465 | \n",
       "| -0.75161 | -1.26278 | -0.09052 | -0.99596 | -1.24245 | -0.69242 | -1.37386 | -0.50803 | -1.04533 | -0.81257 | ⋯        | -1.08902 | -1.05094 | -1.26183 | -1.25918 |  0.97813 | -0.79357 | -1.22961 | -0.71792 | 0.45127  | -0.45804 | \n",
       "|  0.45695 | -0.09654 |  0.90325 | -0.07194 |  0.03232 |  0.09713 | -0.11978 |  0.23381 |  0.23987 |  0.44201 | ⋯        | -0.43377 | -0.10823 | -0.29385 |  0.05067 |  1.69430 | -0.12472 |  0.04609 |  0.24347 | 0.90774  |  0.46509 | \n",
       "|  3.13533 |  0.21415 |  2.08754 |  2.23467 |  0.93811 |  2.24089 |  3.36576 |  1.97859 |  2.66468 | -1.21583 | ⋯        |  0.29598 | -1.29865 |  2.76869 |  2.08960 |  0.70003 |  0.13854 |  1.75908 |  0.06151 | 1.30297  |  0.58186 | \n",
       "|  2.76569 | -1.27045 |  1.60433 |  1.53182 |  1.63728 |  1.85697 |  3.01847 |  1.12853 |  2.17016 | -1.21583 | ⋯        | -1.08902 | -1.29865 |  2.00518 |  1.17454 | -1.47218 | -1.34158 |  1.55086 | -1.18107 | 1.01596  |  0.15788 | \n",
       "|  2.64342 |  1.01416 |  1.70477 |  1.63845 | -0.36075 |  1.73451 |  3.36576 |  0.96870 |  2.72368 | -1.21583 | ⋯        | -1.08902 | -1.29865 |  1.73780 |  0.89347 | -0.52883 | -1.22168 |  0.90832 | -1.39906 | 0.51266  |  1.36249 | \n",
       "\n",
       "\n"
      ],
      "text/plain": [
       "     [,1]     [,2]     [,3]     [,4]     [,5]     [,6]     [,7]     [,8]    \n",
       "[1,] -1.45769 -1.39420 -1.42779 -1.40715 -1.42668 -1.21719 -1.37386 -1.36832\n",
       "[2,] -0.75161 -1.26278 -0.09052 -0.99596 -1.24245 -0.69242 -1.37386 -0.50803\n",
       "[3,]  0.45695 -0.09654  0.90325 -0.07194  0.03232  0.09713 -0.11978  0.23381\n",
       "[4,]  3.13533  0.21415  2.08754  2.23467  0.93811  2.24089  3.36576  1.97859\n",
       "[5,]  2.76569 -1.27045  1.60433  1.53182  1.63728  1.85697  3.01847  1.12853\n",
       "[6,]  2.64342  1.01416  1.70477  1.63845 -0.36075  1.73451  3.36576  0.96870\n",
       "     [,9]     [,10]    [,11] [,12]    [,13]    [,14]    [,15]    [,16]   \n",
       "[1,] -1.47649 -1.21583 ⋯     -1.08902 -1.29865 -1.26183 -1.44434  1.10147\n",
       "[2,] -1.04533 -0.81257 ⋯     -1.08902 -1.05094 -1.26183 -1.25918  0.97813\n",
       "[3,]  0.23987  0.44201 ⋯     -0.43377 -0.10823 -0.29385  0.05067  1.69430\n",
       "[4,]  2.66468 -1.21583 ⋯      0.29598 -1.29865  2.76869  2.08960  0.70003\n",
       "[5,]  2.17016 -1.21583 ⋯     -1.08902 -1.29865  2.00518  1.17454 -1.47218\n",
       "[6,]  2.72368 -1.21583 ⋯     -1.08902 -1.29865  1.73780  0.89347 -0.52883\n",
       "     [,17]    [,18]    [,19]    [,20]   [,21]   \n",
       "[1,] -1.34158 -1.22961 -0.75919 0.84905 -0.66465\n",
       "[2,] -0.79357 -1.22961 -0.71792 0.45127 -0.45804\n",
       "[3,] -0.12472  0.04609  0.24347 0.90774  0.46509\n",
       "[4,]  0.13854  1.75908  0.06151 1.30297  0.58186\n",
       "[5,] -1.34158  1.55086 -1.18107 1.01596  0.15788\n",
       "[6,] -1.22168  0.90832 -1.39906 0.51266  1.36249"
      ]
     },
     "metadata": {},
     "output_type": "display_data"
    }
   ],
   "source": [
    "golub.expr <- golub\n",
    "\n",
    "# preliminar view of the data\n",
    "head(golub.expr)"
   ]
  },
  {
   "cell_type": "markdown",
   "metadata": {},
   "source": [
    " `golub.names` is a matrix containing the names of the 3051 \n",
    " genes contained in `golub`. The three columns correspond to:\n",
    "`index, ID and name`"
   ]
  },
  {
   "cell_type": "code",
   "execution_count": 3,
   "metadata": {
    "collapsed": false
   },
   "outputs": [],
   "source": [
    "row.names(golub.expr) = golub.gnames[,3]"
   ]
  },
  {
   "cell_type": "markdown",
   "metadata": {},
   "source": [
    "`golub.cl` is a numeric vector indicating the tumor class, 27 acute lymphoblastic leukemia (ALL) cases (code 0) and 11 acute myeloid leukemia (AML) cases (code 1)."
   ]
  },
  {
   "cell_type": "code",
   "execution_count": null,
   "metadata": {
    "collapsed": false
   },
   "outputs": [],
   "source": [
    "colnames(golub.expr) = golub.cl"
   ]
  },
  {
   "cell_type": "markdown",
   "metadata": {},
   "source": [
    "Now we need to set the sample sizes"
   ]
  },
  {
   "cell_type": "code",
   "execution_count": 4,
   "metadata": {
    "collapsed": true
   },
   "outputs": [],
   "source": [
    "n.ALL <- 27\n",
    "n.AML <- 11\n",
    "\n",
    "cancer.type <- c(rep('ALL', n.ALL), rep('AML', n.AML))"
   ]
  },
  {
   "cell_type": "markdown",
   "metadata": {},
   "source": [
    "Adding the cancer type to the column name, for the display"
   ]
  },
  {
   "cell_type": "code",
   "execution_count": 5,
   "metadata": {
    "collapsed": true
   },
   "outputs": [],
   "source": [
    "colnames(golub.expr) <- cancer.type"
   ]
  },
  {
   "cell_type": "code",
   "execution_count": 6,
   "metadata": {
    "collapsed": false
   },
   "outputs": [
    {
     "data": {
      "text/html": [
       "<table>\n",
       "<thead><tr><th></th><th scope=col>ALL</th><th scope=col>ALL</th><th scope=col>ALL</th><th scope=col>ALL</th><th scope=col>ALL</th><th scope=col>ALL</th><th scope=col>ALL</th><th scope=col>ALL</th><th scope=col>ALL</th><th scope=col>ALL</th><th scope=col>⋯</th><th scope=col>AML</th><th scope=col>AML</th><th scope=col>AML</th><th scope=col>AML</th><th scope=col>AML</th><th scope=col>AML</th><th scope=col>AML</th><th scope=col>AML</th><th scope=col>AML</th><th scope=col>AML</th></tr></thead>\n",
       "<tbody>\n",
       "\t<tr><th scope=row>AFFX-HUMISGF3A/M97935_MA_at</th><td>-1.45769</td><td>-1.39420</td><td>-1.42779</td><td>-1.40715</td><td>-1.42668</td><td>-1.21719</td><td>-1.37386</td><td>-1.36832</td><td>-1.47649</td><td>-1.21583</td><td>⋯       </td><td>-1.08902</td><td>-1.29865</td><td>-1.26183</td><td>-1.44434</td><td> 1.10147</td><td>-1.34158</td><td>-1.22961</td><td>-0.75919</td><td>0.84905 </td><td>-0.66465</td></tr>\n",
       "\t<tr><th scope=row>AFFX-HUMISGF3A/M97935_MB_at</th><td>-0.75161</td><td>-1.26278</td><td>-0.09052</td><td>-0.99596</td><td>-1.24245</td><td>-0.69242</td><td>-1.37386</td><td>-0.50803</td><td>-1.04533</td><td>-0.81257</td><td>⋯       </td><td>-1.08902</td><td>-1.05094</td><td>-1.26183</td><td>-1.25918</td><td> 0.97813</td><td>-0.79357</td><td>-1.22961</td><td>-0.71792</td><td>0.45127 </td><td>-0.45804</td></tr>\n",
       "\t<tr><th scope=row>AFFX-HUMISGF3A/M97935_3_at</th><td> 0.45695</td><td>-0.09654</td><td> 0.90325</td><td>-0.07194</td><td> 0.03232</td><td> 0.09713</td><td>-0.11978</td><td> 0.23381</td><td> 0.23987</td><td> 0.44201</td><td>⋯       </td><td>-0.43377</td><td>-0.10823</td><td>-0.29385</td><td> 0.05067</td><td> 1.69430</td><td>-0.12472</td><td> 0.04609</td><td> 0.24347</td><td>0.90774 </td><td> 0.46509</td></tr>\n",
       "\t<tr><th scope=row>AFFX-HUMRGE/M10098_5_at</th><td> 3.13533</td><td> 0.21415</td><td> 2.08754</td><td> 2.23467</td><td> 0.93811</td><td> 2.24089</td><td> 3.36576</td><td> 1.97859</td><td> 2.66468</td><td>-1.21583</td><td>⋯       </td><td> 0.29598</td><td>-1.29865</td><td> 2.76869</td><td> 2.08960</td><td> 0.70003</td><td> 0.13854</td><td> 1.75908</td><td> 0.06151</td><td>1.30297 </td><td> 0.58186</td></tr>\n",
       "\t<tr><th scope=row>AFFX-HUMRGE/M10098_M_at</th><td> 2.76569</td><td>-1.27045</td><td> 1.60433</td><td> 1.53182</td><td> 1.63728</td><td> 1.85697</td><td> 3.01847</td><td> 1.12853</td><td> 2.17016</td><td>-1.21583</td><td>⋯       </td><td>-1.08902</td><td>-1.29865</td><td> 2.00518</td><td> 1.17454</td><td>-1.47218</td><td>-1.34158</td><td> 1.55086</td><td>-1.18107</td><td>1.01596 </td><td> 0.15788</td></tr>\n",
       "\t<tr><th scope=row>AFFX-HUMRGE/M10098_3_at</th><td> 2.64342</td><td> 1.01416</td><td> 1.70477</td><td> 1.63845</td><td>-0.36075</td><td> 1.73451</td><td> 3.36576</td><td> 0.96870</td><td> 2.72368</td><td>-1.21583</td><td>⋯       </td><td>-1.08902</td><td>-1.29865</td><td> 1.73780</td><td> 0.89347</td><td>-0.52883</td><td>-1.22168</td><td> 0.90832</td><td>-1.39906</td><td>0.51266 </td><td> 1.36249</td></tr>\n",
       "</tbody>\n",
       "</table>\n"
      ],
      "text/latex": [
       "\\begin{tabular}{r|llllllllllllllllllllllllllllllllllllll}\n",
       "  & ALL & ALL & ALL & ALL & ALL & ALL & ALL & ALL & ALL & ALL & ⋯ & AML & AML & AML & AML & AML & AML & AML & AML & AML & AML\\\\\n",
       "\\hline\n",
       "\tAFFX-HUMISGF3A/M97935\\_MA\\_at & -1.45769 & -1.39420 & -1.42779 & -1.40715 & -1.42668 & -1.21719 & -1.37386 & -1.36832 & -1.47649 & -1.21583 & ⋯        & -1.08902 & -1.29865 & -1.26183 & -1.44434 &  1.10147 & -1.34158 & -1.22961 & -0.75919 & 0.84905  & -0.66465\\\\\n",
       "\tAFFX-HUMISGF3A/M97935\\_MB\\_at & -0.75161 & -1.26278 & -0.09052 & -0.99596 & -1.24245 & -0.69242 & -1.37386 & -0.50803 & -1.04533 & -0.81257 & ⋯        & -1.08902 & -1.05094 & -1.26183 & -1.25918 &  0.97813 & -0.79357 & -1.22961 & -0.71792 & 0.45127  & -0.45804\\\\\n",
       "\tAFFX-HUMISGF3A/M97935\\_3\\_at &  0.45695 & -0.09654 &  0.90325 & -0.07194 &  0.03232 &  0.09713 & -0.11978 &  0.23381 &  0.23987 &  0.44201 & ⋯        & -0.43377 & -0.10823 & -0.29385 &  0.05067 &  1.69430 & -0.12472 &  0.04609 &  0.24347 & 0.90774  &  0.46509\\\\\n",
       "\tAFFX-HUMRGE/M10098\\_5\\_at &  3.13533 &  0.21415 &  2.08754 &  2.23467 &  0.93811 &  2.24089 &  3.36576 &  1.97859 &  2.66468 & -1.21583 & ⋯        &  0.29598 & -1.29865 &  2.76869 &  2.08960 &  0.70003 &  0.13854 &  1.75908 &  0.06151 & 1.30297  &  0.58186\\\\\n",
       "\tAFFX-HUMRGE/M10098\\_M\\_at &  2.76569 & -1.27045 &  1.60433 &  1.53182 &  1.63728 &  1.85697 &  3.01847 &  1.12853 &  2.17016 & -1.21583 & ⋯        & -1.08902 & -1.29865 &  2.00518 &  1.17454 & -1.47218 & -1.34158 &  1.55086 & -1.18107 & 1.01596  &  0.15788\\\\\n",
       "\tAFFX-HUMRGE/M10098\\_3\\_at &  2.64342 &  1.01416 &  1.70477 &  1.63845 & -0.36075 &  1.73451 &  3.36576 &  0.96870 &  2.72368 & -1.21583 & ⋯        & -1.08902 & -1.29865 &  1.73780 &  0.89347 & -0.52883 & -1.22168 &  0.90832 & -1.39906 & 0.51266  &  1.36249\\\\\n",
       "\\end{tabular}\n"
      ],
      "text/markdown": [
       "\n",
       "| <!--/--> | ALL | ALL | ALL | ALL | ALL | ALL | ALL | ALL | ALL | ALL | ⋯ | AML | AML | AML | AML | AML | AML | AML | AML | AML | AML | \n",
       "|---|---|---|---|---|---|\n",
       "| AFFX-HUMISGF3A/M97935_MA_at | -1.45769 | -1.39420 | -1.42779 | -1.40715 | -1.42668 | -1.21719 | -1.37386 | -1.36832 | -1.47649 | -1.21583 | ⋯        | -1.08902 | -1.29865 | -1.26183 | -1.44434 |  1.10147 | -1.34158 | -1.22961 | -0.75919 | 0.84905  | -0.66465 | \n",
       "| AFFX-HUMISGF3A/M97935_MB_at | -0.75161 | -1.26278 | -0.09052 | -0.99596 | -1.24245 | -0.69242 | -1.37386 | -0.50803 | -1.04533 | -0.81257 | ⋯        | -1.08902 | -1.05094 | -1.26183 | -1.25918 |  0.97813 | -0.79357 | -1.22961 | -0.71792 | 0.45127  | -0.45804 | \n",
       "| AFFX-HUMISGF3A/M97935_3_at |  0.45695 | -0.09654 |  0.90325 | -0.07194 |  0.03232 |  0.09713 | -0.11978 |  0.23381 |  0.23987 |  0.44201 | ⋯        | -0.43377 | -0.10823 | -0.29385 |  0.05067 |  1.69430 | -0.12472 |  0.04609 |  0.24347 | 0.90774  |  0.46509 | \n",
       "| AFFX-HUMRGE/M10098_5_at |  3.13533 |  0.21415 |  2.08754 |  2.23467 |  0.93811 |  2.24089 |  3.36576 |  1.97859 |  2.66468 | -1.21583 | ⋯        |  0.29598 | -1.29865 |  2.76869 |  2.08960 |  0.70003 |  0.13854 |  1.75908 |  0.06151 | 1.30297  |  0.58186 | \n",
       "| AFFX-HUMRGE/M10098_M_at |  2.76569 | -1.27045 |  1.60433 |  1.53182 |  1.63728 |  1.85697 |  3.01847 |  1.12853 |  2.17016 | -1.21583 | ⋯        | -1.08902 | -1.29865 |  2.00518 |  1.17454 | -1.47218 | -1.34158 |  1.55086 | -1.18107 | 1.01596  |  0.15788 | \n",
       "| AFFX-HUMRGE/M10098_3_at |  2.64342 |  1.01416 |  1.70477 |  1.63845 | -0.36075 |  1.73451 |  3.36576 |  0.96870 |  2.72368 | -1.21583 | ⋯        | -1.08902 | -1.29865 |  1.73780 |  0.89347 | -0.52883 | -1.22168 |  0.90832 | -1.39906 | 0.51266  |  1.36249 | \n",
       "\n",
       "\n"
      ],
      "text/plain": [
       "                            ALL      ALL      ALL      ALL      ALL     \n",
       "AFFX-HUMISGF3A/M97935_MA_at -1.45769 -1.39420 -1.42779 -1.40715 -1.42668\n",
       "AFFX-HUMISGF3A/M97935_MB_at -0.75161 -1.26278 -0.09052 -0.99596 -1.24245\n",
       "AFFX-HUMISGF3A/M97935_3_at   0.45695 -0.09654  0.90325 -0.07194  0.03232\n",
       "AFFX-HUMRGE/M10098_5_at      3.13533  0.21415  2.08754  2.23467  0.93811\n",
       "AFFX-HUMRGE/M10098_M_at      2.76569 -1.27045  1.60433  1.53182  1.63728\n",
       "AFFX-HUMRGE/M10098_3_at      2.64342  1.01416  1.70477  1.63845 -0.36075\n",
       "                            ALL      ALL      ALL      ALL      ALL      ⋯\n",
       "AFFX-HUMISGF3A/M97935_MA_at -1.21719 -1.37386 -1.36832 -1.47649 -1.21583 ⋯\n",
       "AFFX-HUMISGF3A/M97935_MB_at -0.69242 -1.37386 -0.50803 -1.04533 -0.81257 ⋯\n",
       "AFFX-HUMISGF3A/M97935_3_at   0.09713 -0.11978  0.23381  0.23987  0.44201 ⋯\n",
       "AFFX-HUMRGE/M10098_5_at      2.24089  3.36576  1.97859  2.66468 -1.21583 ⋯\n",
       "AFFX-HUMRGE/M10098_M_at      1.85697  3.01847  1.12853  2.17016 -1.21583 ⋯\n",
       "AFFX-HUMRGE/M10098_3_at      1.73451  3.36576  0.96870  2.72368 -1.21583 ⋯\n",
       "                            AML      AML      AML      AML      AML     \n",
       "AFFX-HUMISGF3A/M97935_MA_at -1.08902 -1.29865 -1.26183 -1.44434  1.10147\n",
       "AFFX-HUMISGF3A/M97935_MB_at -1.08902 -1.05094 -1.26183 -1.25918  0.97813\n",
       "AFFX-HUMISGF3A/M97935_3_at  -0.43377 -0.10823 -0.29385  0.05067  1.69430\n",
       "AFFX-HUMRGE/M10098_5_at      0.29598 -1.29865  2.76869  2.08960  0.70003\n",
       "AFFX-HUMRGE/M10098_M_at     -1.08902 -1.29865  2.00518  1.17454 -1.47218\n",
       "AFFX-HUMRGE/M10098_3_at     -1.08902 -1.29865  1.73780  0.89347 -0.52883\n",
       "                            AML      AML      AML      AML     AML     \n",
       "AFFX-HUMISGF3A/M97935_MA_at -1.34158 -1.22961 -0.75919 0.84905 -0.66465\n",
       "AFFX-HUMISGF3A/M97935_MB_at -0.79357 -1.22961 -0.71792 0.45127 -0.45804\n",
       "AFFX-HUMISGF3A/M97935_3_at  -0.12472  0.04609  0.24347 0.90774  0.46509\n",
       "AFFX-HUMRGE/M10098_5_at      0.13854  1.75908  0.06151 1.30297  0.58186\n",
       "AFFX-HUMRGE/M10098_M_at     -1.34158  1.55086 -1.18107 1.01596  0.15788\n",
       "AFFX-HUMRGE/M10098_3_at     -1.22168  0.90832 -1.39906 0.51266  1.36249"
      ]
     },
     "metadata": {},
     "output_type": "display_data"
    }
   ],
   "source": [
    "head(golub.expr)"
   ]
  },
  {
   "cell_type": "markdown",
   "metadata": {},
   "source": [
    "t.test with a single gene"
   ]
  },
  {
   "cell_type": "code",
   "execution_count": 7,
   "metadata": {
    "collapsed": true
   },
   "outputs": [],
   "source": [
    "g <- 347"
   ]
  },
  {
   "cell_type": "markdown",
   "metadata": {},
   "source": [
    "Alternatively, you can select a gene randomly"
   ]
  },
  {
   "cell_type": "code",
   "execution_count": 8,
   "metadata": {
    "collapsed": true
   },
   "outputs": [],
   "source": [
    "# g <- sample(1:nrow(golub.expr),1)\n",
    "g.profile <- as.vector(as.matrix(golub.expr[g,]))"
   ]
  },
  {
   "cell_type": "markdown",
   "metadata": {},
   "source": [
    "Draw a barplot with color-coded cancer type"
   ]
  },
  {
   "cell_type": "code",
   "execution_count": 9,
   "metadata": {
    "collapsed": false
   },
   "outputs": [
    {
     "data": {
      "image/png": "[encoded data removed]",
      "text/plain": [
       "Plot with title “Golub (1999), gene 347”"
      ]
     },
     "metadata": {},
     "output_type": "display_data"
    }
   ],
   "source": [
    "plot.col <- c('ALL'='#4444BB', 'AML'='#FFFF88')\n",
    "\n",
    "barplot(g.profile, main=paste(\"Golub (1999), gene\", g), \n",
    "        col=plot.col[cancer.type])\n",
    "legend('topright', c(\"ALL\",\"AML\"),col=plot.col[c(\"ALL\",\"AML\")],\n",
    "       pch=15, bty=\"o\", bg='white')\n",
    "box()"
   ]
  },
  {
   "cell_type": "markdown",
   "metadata": {},
   "source": [
    "Separating the data in two vectors"
   ]
  },
  {
   "cell_type": "code",
   "execution_count": 10,
   "metadata": {
    "collapsed": true
   },
   "outputs": [],
   "source": [
    "sample.ALL <- g.profile[cancer.type==\"ALL\"]\n",
    "sample.AML <- g.profile[cancer.type==\"AML\"]"
   ]
  },
  {
   "cell_type": "markdown",
   "metadata": {},
   "source": [
    "**Compute manually ** the t test parameters (not necessary, just to practice!)\n",
    "\n",
    "Estimate the population means"
   ]
  },
  {
   "cell_type": "code",
   "execution_count": 11,
   "metadata": {
    "collapsed": true
   },
   "outputs": [],
   "source": [
    "mean.est.ALL <- mean(sample.ALL)\n",
    "mean.est.AML <- mean(sample.AML)"
   ]
  },
  {
   "cell_type": "markdown",
   "metadata": {
    "collapsed": true
   },
   "source": [
    "Compute the sample standard deviations \n",
    "The sd() function automatically computes the estimate corrected with sqrt(n-1)"
   ]
  },
  {
   "cell_type": "code",
   "execution_count": 12,
   "metadata": {
    "collapsed": true
   },
   "outputs": [],
   "source": [
    "sample.sd.ALL <- sd(sample.ALL) * sqrt((n.ALL-1)/n.ALL)\n",
    "sample.sd.AML <- sd(sample.AML) * sqrt((n.AML-1)/n.AML)"
   ]
  },
  {
   "cell_type": "markdown",
   "metadata": {},
   "source": [
    "Estimate the population standard deviation\n"
   ]
  },
  {
   "cell_type": "code",
   "execution_count": 13,
   "metadata": {
    "collapsed": true
   },
   "outputs": [],
   "source": [
    "sd.est.ALL <- sd(sample.ALL)\n",
    "sd.est.AML <- sd(sample.AML)"
   ]
  },
  {
   "cell_type": "markdown",
   "metadata": {},
   "source": [
    "Estimate the standard deviations on the means"
   ]
  },
  {
   "cell_type": "code",
   "execution_count": 14,
   "metadata": {
    "collapsed": true
   },
   "outputs": [],
   "source": [
    "sd.err.est.ALL <- sd(sample.ALL) / sqrt(n.ALL)\n",
    "sd.err.est.AML <- sd(sample.AML) / sqrt(n.AML)"
   ]
  },
  {
   "cell_type": "markdown",
   "metadata": {},
   "source": [
    "Estimate the standard deviation of the difference between two means, according to Student's formula"
   ]
  },
  {
   "cell_type": "code",
   "execution_count": 15,
   "metadata": {
    "collapsed": true
   },
   "outputs": [],
   "source": [
    "diff.sd.est <- sqrt((n.ALL*sample.sd.ALL^2 + n.AML*sample.sd.AML^2) * (1/n.ALL + 1/n.AML) /(n.ALL+n.AML-2))"
   ]
  },
  {
   "cell_type": "markdown",
   "metadata": {},
   "source": [
    "Compute t.obs"
   ]
  },
  {
   "cell_type": "code",
   "execution_count": 16,
   "metadata": {
    "collapsed": false
   },
   "outputs": [],
   "source": [
    "d <- abs(mean.est.ALL - mean.est.AML)\n",
    "t.obs.Student <- d / diff.sd.est"
   ]
  },
  {
   "cell_type": "markdown",
   "metadata": {},
   "source": [
    "Compute the P- vale.\n",
    "Since we are performing the two-tail test, the single-tail probability has to be multiplied by 3 in order to obtai the alpha risk"
   ]
  },
  {
   "cell_type": "code",
   "execution_count": 17,
   "metadata": {
    "collapsed": true
   },
   "outputs": [],
   "source": [
    "P.val.Student <- 2 * pt(q = t.obs.Student, df = n.ALL + n.AML-2, lower.tail = F)"
   ]
  },
  {
   "cell_type": "markdown",
   "metadata": {},
   "source": [
    "### This is what you should be doing... FAST! "
   ]
  },
  {
   "cell_type": "markdown",
   "metadata": {},
   "source": [
    "### Apply the Student-Fischer t-test (this assumes that the two populations have equal variance)."
   ]
  },
  {
   "cell_type": "code",
   "execution_count": 18,
   "metadata": {
    "collapsed": false
   },
   "outputs": [
    {
     "name": "stdout",
     "output_type": "stream",
     "text": [
      "\n",
      "\tTwo Sample t-test\n",
      "\n",
      "data:  sample.ALL and sample.AML\n",
      "t = 1.9201, df = 36, p-value = 0.0628\n",
      "alternative hypothesis: true difference in means is not equal to 0\n",
      "95 percent confidence interval:\n",
      " -0.02970999  1.08601464\n",
      "sample estimates:\n",
      " mean of x  mean of y \n",
      "-0.3580622 -0.8862145 \n",
      "\n"
     ]
    }
   ],
   "source": [
    "t.student <- t.test(sample.ALL,sample.AML, var.equal=TRUE)\n",
    "print(t.student)"
   ]
  },
  {
   "cell_type": "markdown",
   "metadata": {},
   "source": [
    "### Apply the Welch t-test (this does not assume that the two populations have equal variance)"
   ]
  },
  {
   "cell_type": "code",
   "execution_count": 19,
   "metadata": {
    "collapsed": false
   },
   "outputs": [
    {
     "name": "stdout",
     "output_type": "stream",
     "text": [
      "\n",
      "\tWelch Two Sample t-test\n",
      "\n",
      "data:  sample.ALL and sample.AML\n",
      "t = 2.5462, df = 35.088, p-value = 0.01543\n",
      "alternative hypothesis: true difference in means is not equal to 0\n",
      "95 percent confidence interval:\n",
      " 0.1070944 0.9492103\n",
      "sample estimates:\n",
      " mean of x  mean of y \n",
      "-0.3580622 -0.8862145 \n",
      "\n"
     ]
    }
   ],
   "source": [
    "t.welch <- t.test(sample.ALL,sample.AML, var.equal=FALSE)\n",
    "print(t.welch) "
   ]
  },
  {
   "cell_type": "code",
   "execution_count": null,
   "metadata": {
    "collapsed": true
   },
   "outputs": [],
   "source": []
  }
 ],
 "metadata": {
  "kernelspec": {
   "display_name": "R",
   "language": "R",
   "name": "ir"
  },
  "language_info": {
   "codemirror_mode": "r",
   "file_extension": ".r",
   "mimetype": "text/x-r-source",
   "name": "R",
   "pygments_lexer": "r",
   "version": "3.3.2"
  }
 },
 "nbformat": 4,
 "nbformat_minor": 2
}
